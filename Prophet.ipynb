{
 "cells": [
  {
   "cell_type": "code",
   "execution_count": 1,
   "metadata": {},
   "outputs": [],
   "source": [
    "# !pip install pystan==2.19.1.1\n",
    "# !pip install prophet\n",
    "# !pip install plotly\n"
   ]
  },
  {
   "cell_type": "code",
   "execution_count": 1,
   "metadata": {},
   "outputs": [],
   "source": [
    "# Python\n",
    "import pandas as pd\n",
    "from prophet import Prophet\n",
    "import os\n",
    "os.listdir()\n",
    "path = open('document.txt', 'r').read().strip()"
   ]
  },
  {
   "cell_type": "code",
   "execution_count": 2,
   "metadata": {},
   "outputs": [
    {
     "name": "stdout",
     "output_type": "stream",
     "text": [
      "['2019_street.feather', '2020_street.feather']\n",
      "C:/Users/Arcane/Documents/Data Challenge 2/2019_street.feather\n"
     ]
    }
   ],
   "source": [
    "files = os.listdir(path)\n",
    "files.sort()\n",
    "print(files)\n",
    "print(path + files[0])\n",
    "\n"
   ]
  },
  {
   "cell_type": "markdown",
   "metadata": {},
   "source": [
    "## Notes Police forces\n",
    "apparently 'Greater Manchester Police' force was removed from 2020 to 2021 <br><br>\n",
    "'Police Service of Northern Ireland' is included from 2011 onwards\n",
    "\n",
    "## idea\n",
    "instead of only count of crimes we can implement a weighted count where more severe crimes have more effect on the total count"
   ]
  },
  {
   "cell_type": "code",
   "execution_count": 61,
   "metadata": {},
   "outputs": [
    {
     "name": "stdout",
     "output_type": "stream",
     "text": [
      "2019_street.feather\n",
      "anders\n",
      "2020_street.feather\n",
      "anders\n"
     ]
    }
   ],
   "source": [
    "\n",
    "def Count_by_district(district):\n",
    "    df_data = pd.DataFrame([])\n",
    "    for i in files:\n",
    "        print(i)\n",
    "        if not 'df_data' in globals():\n",
    "            print('anders')\n",
    "            df_data = pd.read_feather(f\"{path}/{i}\")\n",
    "            df_data = df_data[['Month', 'Falls within']]\n",
    "            df_data = df_data[df_data['Falls within']==district]\n",
    "        else:\n",
    "            print('iets')\n",
    "            df_new = pd.read_feather(f\"{path}/{i}\")\n",
    "            df_new = df_new[['Month', 'Falls within']]\n",
    "            df_new = df_new[df_new['Falls within']==district]\n",
    "            df_data = pd.concat([df_data, df_new], ignore_index=True)\n",
    "\n",
    "    return df_data\n",
    "\n",
    "df_data = Count_by_district(district='South Wales Police')\n",
    "\n",
    "\n",
    "\n"
   ]
  },
  {
   "cell_type": "code",
   "execution_count": 62,
   "metadata": {},
   "outputs": [
    {
     "name": "stdout",
     "output_type": "stream",
     "text": [
      "South Wales Police    150755\n",
      "Name: Falls within, dtype: int64\n"
     ]
    },
    {
     "data": {
      "text/plain": [
       "150755.0"
      ]
     },
     "execution_count": 62,
     "metadata": {},
     "output_type": "execute_result"
    }
   ],
   "source": [
    "print(df_data['Falls within'].value_counts())\n",
    "df_data['Falls within'].value_counts().mean()"
   ]
  },
  {
   "cell_type": "code",
   "execution_count": 63,
   "metadata": {},
   "outputs": [],
   "source": [
    "district = df_data[df_data['Falls within']=='South Wales Police']\n",
    "del df_data\n",
    "predict = {}\n",
    "\n",
    "district = district.sort_values(by=['Month'])\n",
    "months = district['Month'].unique()\n",
    "for i in months:\n",
    "    predict[i] = len(district[district['Month']==i])\n",
    "predict = pd.DataFrame({'ds': list(predict.keys()), 'y': list(predict.values())})\n",
    "predict['ds'] = pd.to_datetime(predict['ds'])"
   ]
  },
  {
   "cell_type": "code",
   "execution_count": 64,
   "metadata": {},
   "outputs": [
    {
     "name": "stderr",
     "output_type": "stream",
     "text": [
      "INFO:prophet:Disabling yearly seasonality. Run prophet with yearly_seasonality=True to override this.\n",
      "INFO:prophet:Disabling weekly seasonality. Run prophet with weekly_seasonality=True to override this.\n",
      "INFO:prophet:Disabling daily seasonality. Run prophet with daily_seasonality=True to override this.\n",
      "INFO:prophet:n_changepoints greater than number of observations. Using 8.\n",
      "C:\\Users\\Arcane\\Anaconda3\\lib\\site-packages\\matplotlib\\cbook\\__init__.py:1402: FutureWarning: Support for multi-dimensional indexing (e.g. `obj[:, None]`) is deprecated and will be removed in a future version.  Convert to a numpy array before indexing instead.\n",
      "  x[:, None]\n",
      "C:\\Users\\Arcane\\Anaconda3\\lib\\site-packages\\matplotlib\\axes\\_base.py:278: FutureWarning: Support for multi-dimensional indexing (e.g. `obj[:, None]`) is deprecated and will be removed in a future version.  Convert to a numpy array before indexing instead.\n",
      "  y = y[:, np.newaxis]\n"
     ]
    },
    {
     "data": {
      "image/png": "[encoded data removed]",
      "text/plain": [
       "<Figure size 720x432 with 1 Axes>"
      ]
     },
     "metadata": {},
     "output_type": "display_data"
    }
   ],
   "source": [
    "m = Prophet(seasonality_mode='multiplicative').fit(predict)\n",
    "future = m.make_future_dataframe(periods=90)\n",
    "fcst = m.predict(future)\n",
    "fig = m.plot(fcst)\n"
   ]
  },
  {
   "cell_type": "code",
   "execution_count": 65,
   "metadata": {},
   "outputs": [
    {
     "name": "stderr",
     "output_type": "stream",
     "text": [
      "INFO:prophet:Disabling yearly seasonality. Run prophet with yearly_seasonality=True to override this.\n",
      "INFO:prophet:Disabling weekly seasonality. Run prophet with weekly_seasonality=True to override this.\n",
      "INFO:prophet:Disabling daily seasonality. Run prophet with daily_seasonality=True to override this.\n",
      "INFO:prophet:n_changepoints greater than number of observations. Using 8.\n",
      "WARNING:pystan:n_eff / iter below 0.001 indicates that the effective sample size has likely been overestimated\n",
      "WARNING:pystan:Rhat above 1.1 or below 0.9 indicates that the chains very likely have not mixed\n",
      "C:\\Users\\Arcane\\Anaconda3\\lib\\site-packages\\matplotlib\\cbook\\__init__.py:1402: FutureWarning: Support for multi-dimensional indexing (e.g. `obj[:, None]`) is deprecated and will be removed in a future version.  Convert to a numpy array before indexing instead.\n",
      "  x[:, None]\n",
      "C:\\Users\\Arcane\\Anaconda3\\lib\\site-packages\\matplotlib\\axes\\_base.py:278: FutureWarning: Support for multi-dimensional indexing (e.g. `obj[:, None]`) is deprecated and will be removed in a future version.  Convert to a numpy array before indexing instead.\n",
      "  y = y[:, np.newaxis]\n"
     ]
    },
    {
     "data": {
      "image/png": "[encoded data removed]",
      "text/plain": [
       "<Figure size 648x216 with 1 Axes>"
      ]
     },
     "metadata": {},
     "output_type": "display_data"
    }
   ],
   "source": [
    "m = Prophet(seasonality_mode='multiplicative', mcmc_samples=300).fit(predict)\n",
    "fcst = m.predict(future)\n",
    "fig = m.plot_components(fcst)"
   ]
  },
  {
   "cell_type": "code",
   "execution_count": 66,
   "metadata": {},
   "outputs": [
    {
     "data": {
      "text/html": [
       "<div>\n",
       "<style scoped>\n",
       "    .dataframe tbody tr th:only-of-type {\n",
       "        vertical-align: middle;\n",
       "    }\n",
       "\n",
       "    .dataframe tbody tr th {\n",
       "        vertical-align: top;\n",
       "    }\n",
       "\n",
       "    .dataframe thead th {\n",
       "        text-align: right;\n",
       "    }\n",
       "</style>\n",
       "<table border=\"1\" class=\"dataframe\">\n",
       "  <thead>\n",
       "    <tr style=\"text-align: right;\">\n",
       "      <th></th>\n",
       "      <th>ds</th>\n",
       "      <th>yhat</th>\n",
       "      <th>yhat_lower</th>\n",
       "      <th>yhat_upper</th>\n",
       "    </tr>\n",
       "  </thead>\n",
       "  <tbody>\n",
       "    <tr>\n",
       "      <th>97</th>\n",
       "      <td>2021-02-25</td>\n",
       "      <td>12404.514707</td>\n",
       "      <td>9630.058382</td>\n",
       "      <td>15135.944486</td>\n",
       "    </tr>\n",
       "    <tr>\n",
       "      <th>98</th>\n",
       "      <td>2021-02-26</td>\n",
       "      <td>12402.754233</td>\n",
       "      <td>9665.004489</td>\n",
       "      <td>15132.651667</td>\n",
       "    </tr>\n",
       "    <tr>\n",
       "      <th>99</th>\n",
       "      <td>2021-02-27</td>\n",
       "      <td>12400.993760</td>\n",
       "      <td>9704.109343</td>\n",
       "      <td>15181.260764</td>\n",
       "    </tr>\n",
       "    <tr>\n",
       "      <th>100</th>\n",
       "      <td>2021-02-28</td>\n",
       "      <td>12399.233286</td>\n",
       "      <td>9656.667632</td>\n",
       "      <td>15061.692417</td>\n",
       "    </tr>\n",
       "    <tr>\n",
       "      <th>101</th>\n",
       "      <td>2021-03-01</td>\n",
       "      <td>12397.472813</td>\n",
       "      <td>9463.881146</td>\n",
       "      <td>15223.970825</td>\n",
       "    </tr>\n",
       "  </tbody>\n",
       "</table>\n",
       "</div>"
      ],
      "text/plain": [
       "            ds          yhat   yhat_lower    yhat_upper\n",
       "97  2021-02-25  12404.514707  9630.058382  15135.944486\n",
       "98  2021-02-26  12402.754233  9665.004489  15132.651667\n",
       "99  2021-02-27  12400.993760  9704.109343  15181.260764\n",
       "100 2021-02-28  12399.233286  9656.667632  15061.692417\n",
       "101 2021-03-01  12397.472813  9463.881146  15223.970825"
      ]
     },
     "execution_count": 66,
     "metadata": {},
     "output_type": "execute_result"
    }
   ],
   "source": [
    "forecast = m.predict(future)\n",
    "forecast[['ds', 'yhat', 'yhat_lower', 'yhat_upper']].tail()"
   ]
  },
  {
   "cell_type": "code",
   "execution_count": null,
   "metadata": {},
   "outputs": [],
   "source": []
  },
  {
   "cell_type": "code",
   "execution_count": 67,
   "metadata": {},
   "outputs": [],
   "source": [
    "#df_predict = df_data[~df_data.isna()]\n",
    "#df_predict"
   ]
  },
  {
   "cell_type": "code",
   "execution_count": 68,
   "metadata": {},
   "outputs": [],
   "source": [
    "#df_data.loc[[129657]]"
   ]
  },
  {
   "cell_type": "code",
   "execution_count": 69,
   "metadata": {},
   "outputs": [],
   "source": [
    "# df_predict = df_data[['Month', 'Longitude', 'Latitude']].reset_index()\n",
    "# index = df_predict.pop('index')\n",
    "# df_predict.insert(1, 'index', index)\n",
    "\n",
    "\n",
    "# df_predict.columns = ['ds', 'y', 'add1', 'add2']\n",
    "\n",
    "# df_predict\n"
   ]
  }
 ],
 "metadata": {
  "interpreter": {
   "hash": "d925ddf54a1018013bc1987ecd984ab99f5c42127f752ede2d4444a88e4ffd3d"
  },
  "kernelspec": {
   "display_name": "Python 3.8.8 ('base')",
   "language": "python",
   "name": "python3"
  },
  "language_info": {
   "codemirror_mode": {
    "name": "ipython",
    "version": 3
   },
   "file_extension": ".py",
   "mimetype": "text/x-python",
   "name": "python",
   "nbconvert_exporter": "python",
   "pygments_lexer": "ipython3",
   "version": "3.7.3"
  },
  "orig_nbformat": 4
 },
 "nbformat": 4,
 "nbformat_minor": 2
}
