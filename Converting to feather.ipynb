{
 "cells": [
  {
   "cell_type": "code",
   "execution_count": 4,
   "metadata": {},
   "outputs": [],
   "source": [
    "import pandas as pd\n",
    "import numpy as np\n",
    "import matplotlib.pyplot as plt\n",
    "plt.style.use('seaborn')\n",
    "import os\n",
    "import glob"
   ]
  },
  {
   "cell_type": "code",
   "execution_count": 19,
   "metadata": {},
   "outputs": [
    {
     "data": {
      "text/plain": [
       "'/home/dazai/Documents/Data challenge/Data/Aggregated/2021_street.feather'"
      ]
     },
     "execution_count": 19,
     "metadata": {},
     "output_type": "execute_result"
    }
   ],
   "source": []
  },
  {
   "cell_type": "code",
   "execution_count": 20,
   "metadata": {
    "scrolled": false
   },
   "outputs": [],
   "source": [
    "path = open('document.txt', 'r').read().strip()\n",
    "files = os.listdir(path)\n",
    "\n",
    "\n",
    "main = [i for i in files if 'street' in i]\n",
    "stop_search = [i for i in files if 'search' in i]\n",
    "outcomes = [i for i in files if 'outcomes' in i]\n",
    "\n",
    "for i in main:\n",
    "    df_data = pd.read_feather(f\"{path}/{i}\")\n",
    "    df_data.drop_duplicates(inplace=True)\n",
    "    df_data.drop(columns='index', inplace=True)\n",
    "    df_data.reset_index(drop=True, inplace=True)\n",
    "    year = df_data['Month'][0][:4]\n",
    "    df_data.to_feather(f'/home/dazai/Documents/Data challenge/Data/Local/{year}_street.feather')"
   ]
  },
  {
   "cell_type": "code",
   "execution_count": null,
   "metadata": {},
   "outputs": [],
   "source": []
  }
 ],
 "metadata": {
  "kernelspec": {
   "display_name": "Python 3",
   "language": "python",
   "name": "python3"
  },
  "language_info": {
   "codemirror_mode": {
    "name": "ipython",
    "version": 3
   },
   "file_extension": ".py",
   "mimetype": "text/x-python",
   "name": "python",
   "nbconvert_exporter": "python",
   "pygments_lexer": "ipython3",
   "version": "3.8.10"
  }
 },
 "nbformat": 4,
 "nbformat_minor": 4
}
