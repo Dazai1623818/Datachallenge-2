{
 "cells": [
  {
   "cell_type": "code",
   "execution_count": 1,
   "metadata": {},
   "outputs": [],
   "source": [
    "import pandas as pd\n",
    "import numpy as np\n",
    "import matplotlib.pyplot as plt\n",
    "plt.style.use('seaborn')\n",
    "import os\n",
    "import glob"
   ]
  },
  {
   "cell_type": "code",
   "execution_count": 2,
   "metadata": {
    "scrolled": false
   },
   "outputs": [
    {
     "name": "stdout",
     "output_type": "stream",
     "text": [
      "Empty DataFrame\n",
      "Columns: []\n",
      "Index: []\n"
     ]
    }
   ],
   "source": [
    "path = 'F:/Data Challenge 2/Jan_2010_Oct_2021/Jan_2010_Oct_2021'\n",
    "csv_files = glob.glob(os.path.join(path+\"/Jan_2010_Oct_2021/2021*\", \"*street.csv\"))\n",
    "df_2021 = pd.DataFrame()\n",
    "print(df_2021)\n",
    "  \n",
    "for f in csv_files:\n",
    "      \n",
    "    # read the csv file\n",
    "    df = pd.read_csv(f)\n",
    "      \n",
    "    # print the location and filename\n",
    "    print('Location:', f)\n",
    "    print('File Name:', f.split(\"\\\\\")[-1])\n",
    "      \n",
    "    # print the content\n",
    "    print('Content:')\n",
    "    display(df)\n",
    "    print()\n",
    "    df_2021 = pd.concat([df_2021, df])"
   ]
  },
  {
   "cell_type": "code",
   "execution_count": null,
   "metadata": {},
   "outputs": [],
   "source": [
    "df_2021 = df_2021.reset_index()"
   ]
  },
  {
   "cell_type": "code",
   "execution_count": null,
   "metadata": {},
   "outputs": [],
   "source": [
    "df_2021.to_feather(r'C:\\Users\\20202478\\Documents\\School\\Year 2\\Q3\\JBG050 Data Challenge 2\\2021_street.feather')"
   ]
  },
  {
   "cell_type": "code",
   "execution_count": null,
   "metadata": {},
   "outputs": [],
   "source": [
    "df_2021"
   ]
  },
  {
   "cell_type": "code",
   "execution_count": 4,
   "metadata": {},
   "outputs": [],
   "source": [
    "def df_to_feather(year, tpe, filename):\n",
    "    path = os.getcwd()\n",
    "    csv_files = glob.glob(os.path.join(path+\"/Jan_2010_Oct_2021/\"+year+\"*\", \"*\"+tpe+\".csv\"))\n",
    "    df_year = pd.DataFrame()\n",
    "  \n",
    "    for f in csv_files:\n",
    "      \n",
    "        # read the csv file\n",
    "        df = pd.read_csv(f)\n",
    "\n",
    "        df_year = pd.concat([df_year, df])\n",
    "            \n",
    "    df_year = df_year.reset_index()\n",
    "    \n",
    "    df_year.to_feather(path+'/'+filename+\".feather\")"
   ]
  },
  {
   "cell_type": "code",
   "execution_count": 6,
   "metadata": {},
   "outputs": [],
   "source": [
    "df_to_feather('2020', 'street', '2020_street')"
   ]
  },
  {
   "cell_type": "code",
   "execution_count": 9,
   "metadata": {},
   "outputs": [],
   "source": [
    "df_to_feather('2019','street','2019_street')"
   ]
  },
  {
   "cell_type": "code",
   "execution_count": null,
   "metadata": {},
   "outputs": [],
   "source": []
  }
 ],
 "metadata": {
  "kernelspec": {
   "display_name": "Python 3",
   "language": "python",
   "name": "python3"
  },
  "language_info": {
   "codemirror_mode": {
    "name": "ipython",
    "version": 3
   },
   "file_extension": ".py",
   "mimetype": "text/x-python",
   "name": "python",
   "nbconvert_exporter": "python",
   "pygments_lexer": "ipython3",
   "version": "3.10.2"
  }
 },
 "nbformat": 4,
 "nbformat_minor": 4
}
