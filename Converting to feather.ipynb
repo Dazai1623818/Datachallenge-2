{
 "cells": [
  {
   "cell_type": "code",
   "execution_count": 1,
   "metadata": {},
   "outputs": [],
   "source": [
    "import pandas as pd\n",
    "import numpy as np\n",
    "import matplotlib.pyplot as plt\n",
    "plt.style.use('seaborn')\n",
    "import os\n",
    "import glob"
   ]
  },
  {
   "cell_type": "markdown",
   "metadata": {},
   "source": [
    "# From feather to clean feather"
   ]
  },
  {
   "cell_type": "code",
   "execution_count": 20,
   "metadata": {
    "scrolled": false
   },
   "outputs": [],
   "source": [
    "path = open('document.txt', 'r').read().strip()\n",
    "files = os.listdir(path)\n",
    "\n",
    "\n",
    "main = [i for i in files if 'street' in i]\n",
    "stop_search = [i for i in files if 'search' in i]\n",
    "outcomes = [i for i in files if 'outcomes' in i]\n",
    "\n",
    "for i in main:\n",
    "    df_data = pd.read_feather(f\"{path}/{i}\")\n",
    "    df_data.drop_duplicates(inplace=True)\n",
    "    df_data.drop(columns='index', inplace=True)\n",
    "    df_data.reset_index(drop=True, inplace=True)\n",
    "    year = df_data['Month'][0][:4]\n",
    "    df_data.to_feather(f'/home/dazai/Documents/Data challenge/Data/Local/{year}_street.feather')"
   ]
  },
  {
   "cell_type": "markdown",
   "metadata": {},
   "source": [
    "# From raw data to feather"
   ]
  },
  {
   "cell_type": "code",
   "execution_count": 28,
   "metadata": {},
   "outputs": [],
   "source": [
    "# folders = os.listdir(r'/home/dazai/Documents/Data challenge/Data/Raw')\n",
    "# folders.sort()\n",
    "# years = np.unique([i[:4] for i in folders])\n",
    "\n",
    "# # loop through all years\n",
    "# for i in enumerate(years):\n",
    "#     # all months for single year in list\n",
    "#     single_year = [k for k in folders if (k.startswith(i[1]))]\n",
    "#     df_data = pd.DataFrame([])\n",
    "\n",
    "#     # list directory for single year\n",
    "#     for j in single_year:\n",
    "#         files = os.listdir(f'/home/dazai/Documents/Data challenge/Data/Raw/{j}')\n",
    "#         # checks if street in file and concats with previous month\n",
    "#         for file in files:\n",
    "#             if ('street.csv' in file):\n",
    "#                 df_new = pd.read_csv(f'/home/dazai/Documents/Data challenge/Data/Raw/{j}/{file}')\n",
    "#                 df_data = pd.concat([df_data,df_new])\n",
    "#         # cleans data\n",
    "#         df_data.drop_duplicates(inplace=True)\n",
    "#         df_data.reset_index(drop=True, inplace=True)\n",
    "#         df_data.to_feather(f'/home/dazai/Documents/Data challenge/Data/Local/{i[1]}_street.feather')"
   ]
  }
 ],
 "metadata": {
  "kernelspec": {
   "display_name": "Python 3",
   "language": "python",
   "name": "python3"
  },
  "language_info": {
   "codemirror_mode": {
    "name": "ipython",
    "version": 3
   },
   "file_extension": ".py",
   "mimetype": "text/x-python",
   "name": "python",
   "nbconvert_exporter": "python",
   "pygments_lexer": "ipython3",
   "version": "3.8.10"
  }
 },
 "nbformat": 4,
 "nbformat_minor": 4
}
